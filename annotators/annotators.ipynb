{
 "cells": [
  {
   "cell_type": "markdown",
   "id": "c877cab8-aebc-482e-bb66-6b6d470b5b58",
   "metadata": {},
   "source": [
    "## How much does it matter who labelled the dataset? \n",
    "\n",
    "This is largely inspired by the [Are We Modeling the Task or the Annotator?](https://aclanthology.org/D19-1107.pdf) paper."
   ]
  },
  {
   "cell_type": "code",
   "execution_count": 1,
   "id": "8acd21be-4b60-4079-bafa-6f404cb8c063",
   "metadata": {},
   "outputs": [],
   "source": [
    "import pandas as pd"
   ]
  },
  {
   "cell_type": "code",
   "execution_count": 2,
   "id": "45c44230-ad4e-4d97-b904-7d641c22e8ee",
   "metadata": {},
   "outputs": [],
   "source": [
    "df = pd.concat([pd.read_csv(f\"data/full_dataset/goemotions_{i}.csv\") for i in [1, 2, 3]])"
   ]
  },
  {
   "cell_type": "code",
   "execution_count": 3,
   "id": "b48a931c-1f1e-4921-b9d9-7e2ac7111fdf",
   "metadata": {},
   "outputs": [
    {
     "data": {
      "text/plain": [
       "Index(['text', 'id', 'author', 'subreddit', 'link_id', 'parent_id',\n",
       "       'created_utc', 'rater_id', 'example_very_unclear', 'admiration',\n",
       "       'amusement', 'anger', 'annoyance', 'approval', 'caring', 'confusion',\n",
       "       'curiosity', 'desire', 'disappointment', 'disapproval', 'disgust',\n",
       "       'embarrassment', 'excitement', 'fear', 'gratitude', 'grief', 'joy',\n",
       "       'love', 'nervousness', 'optimism', 'pride', 'realization', 'relief',\n",
       "       'remorse', 'sadness', 'surprise', 'neutral'],\n",
       "      dtype='object')"
      ]
     },
     "execution_count": 3,
     "metadata": {},
     "output_type": "execute_result"
    }
   ],
   "source": [
    "df.columns"
   ]
  },
  {
   "cell_type": "code",
   "execution_count": 4,
   "id": "24e0f8c6-0b4e-4cda-ad3e-9d2654d718e8",
   "metadata": {},
   "outputs": [
    {
     "data": {
      "text/plain": [
       "<AxesSubplot:title={'center':'rater distribution'}>"
      ]
     },
     "execution_count": 4,
     "metadata": {},
     "output_type": "execute_result"
    },
    {
     "data": {
      "image/png": "[encoded data removed]",
      "text/plain": [
       "<Figure size 432x288 with 1 Axes>"
      ]
     },
     "metadata": {
      "needs_background": "light"
     },
     "output_type": "display_data"
    }
   ],
   "source": [
    "df['rater_id'].value_counts().reset_index()['rater_id'].plot(title=\"rater distribution\")"
   ]
  },
  {
   "cell_type": "code",
   "execution_count": 5,
   "id": "4256cc6f-24fe-4b3f-a158-ad23bd7040c5",
   "metadata": {},
   "outputs": [],
   "source": [
    "COLUM_OF_INTEREST = \"anger\""
   ]
  },
  {
   "cell_type": "code",
   "execution_count": 6,
   "id": "c0fd2d51-9fe9-4c9f-bad6-2b5a5fc0d955",
   "metadata": {},
   "outputs": [
    {
     "data": {
      "text/plain": [
       "id    2900.55\n",
       "dtype: float64"
      ]
     },
     "execution_count": 6,
     "metadata": {},
     "output_type": "execute_result"
    }
   ],
   "source": [
    "df[['id']].nunique() * 0.05"
   ]
  },
  {
   "cell_type": "code",
   "execution_count": 7,
   "id": "399b0f26-9b82-41e1-8b35-f3e00d9e4af1",
   "metadata": {},
   "outputs": [
    {
     "data": {
      "text/html": [
       "<div>\n",
       "<style scoped>\n",
       "    .dataframe tbody tr th:only-of-type {\n",
       "        vertical-align: middle;\n",
       "    }\n",
       "\n",
       "    .dataframe tbody tr th {\n",
       "        vertical-align: top;\n",
       "    }\n",
       "\n",
       "    .dataframe thead th {\n",
       "        text-align: right;\n",
       "    }\n",
       "</style>\n",
       "<table border=\"1\" class=\"dataframe\">\n",
       "  <thead>\n",
       "    <tr style=\"text-align: right;\">\n",
       "      <th></th>\n",
       "      <th>count</th>\n",
       "      <th>pref</th>\n",
       "    </tr>\n",
       "    <tr>\n",
       "      <th>rater_id</th>\n",
       "      <th></th>\n",
       "      <th></th>\n",
       "    </tr>\n",
       "  </thead>\n",
       "  <tbody>\n",
       "    <tr>\n",
       "      <th>15</th>\n",
       "      <td>5064</td>\n",
       "      <td>0.011058</td>\n",
       "    </tr>\n",
       "    <tr>\n",
       "      <th>60</th>\n",
       "      <td>5318</td>\n",
       "      <td>0.018240</td>\n",
       "    </tr>\n",
       "    <tr>\n",
       "      <th>24</th>\n",
       "      <td>5383</td>\n",
       "      <td>0.020063</td>\n",
       "    </tr>\n",
       "    <tr>\n",
       "      <th>61</th>\n",
       "      <td>9930</td>\n",
       "      <td>0.034945</td>\n",
       "    </tr>\n",
       "    <tr>\n",
       "      <th>62</th>\n",
       "      <td>5380</td>\n",
       "      <td>0.035502</td>\n",
       "    </tr>\n",
       "    <tr>\n",
       "      <th>4</th>\n",
       "      <td>10508</td>\n",
       "      <td>0.046155</td>\n",
       "    </tr>\n",
       "    <tr>\n",
       "      <th>81</th>\n",
       "      <td>5271</td>\n",
       "      <td>0.046860</td>\n",
       "    </tr>\n",
       "    <tr>\n",
       "      <th>37</th>\n",
       "      <td>9161</td>\n",
       "      <td>0.051086</td>\n",
       "    </tr>\n",
       "    <tr>\n",
       "      <th>2</th>\n",
       "      <td>5778</td>\n",
       "      <td>0.054171</td>\n",
       "    </tr>\n",
       "    <tr>\n",
       "      <th>70</th>\n",
       "      <td>5394</td>\n",
       "      <td>0.058213</td>\n",
       "    </tr>\n",
       "    <tr>\n",
       "      <th>52</th>\n",
       "      <td>5397</td>\n",
       "      <td>0.095423</td>\n",
       "    </tr>\n",
       "  </tbody>\n",
       "</table>\n",
       "</div>"
      ],
      "text/plain": [
       "          count      pref\n",
       "rater_id                 \n",
       "15         5064  0.011058\n",
       "60         5318  0.018240\n",
       "24         5383  0.020063\n",
       "61         9930  0.034945\n",
       "62         5380  0.035502\n",
       "4         10508  0.046155\n",
       "81         5271  0.046860\n",
       "37         9161  0.051086\n",
       "2          5778  0.054171\n",
       "70         5394  0.058213\n",
       "52         5397  0.095423"
      ]
     },
     "execution_count": 7,
     "metadata": {},
     "output_type": "execute_result"
    }
   ],
   "source": [
    "summary = (df\n",
    " .groupby('rater_id')\n",
    " .agg(count=(\"id\", \"nunique\"), pref=(COLUM_OF_INTEREST, \"mean\"))\n",
    " .sort_values(\"pref\")\n",
    " .loc[lambda d: d['count'] > 5000])\n",
    "\n",
    "summary"
   ]
  },
  {
   "cell_type": "code",
   "execution_count": 8,
   "id": "2d161d6a-d782-4a8d-86d3-d4b2e7967787",
   "metadata": {
    "tags": []
   },
   "outputs": [
    {
     "data": {
      "image/png": "[encoded data removed]",
      "text/plain": [
       "<Figure size 432x288 with 1 Axes>"
      ]
     },
     "metadata": {
      "needs_background": "light"
     },
     "output_type": "display_data"
    }
   ],
   "source": [
    "import numpy as np\n",
    "from scipy.stats import beta\n",
    "import matplotlib.pylab as plt\n",
    "\n",
    "xs = np.linspace(0, 0.07, 100)\n",
    "\n",
    "for row in summary.to_dict(orient=\"records\"):\n",
    "    n_hit = int(row['count'] * row['pref'])\n",
    "    plt.plot(xs, beta(n_hit, row['count'] - n_hit).pdf(xs))"
   ]
  },
  {
   "cell_type": "code",
   "execution_count": 9,
   "id": "a5314623-71bc-4be9-b38c-4c02451a77ad",
   "metadata": {},
   "outputs": [],
   "source": [
    "rater_ids = df.groupby('rater_id').agg(count=(\"id\", \"nunique\")).reset_index().loc[lambda d: d['count'] > 4000]['rater_id'].values"
   ]
  },
  {
   "cell_type": "code",
   "execution_count": 10,
   "id": "0021df11-f0c9-4d31-aaa5-441a61081298",
   "metadata": {},
   "outputs": [],
   "source": [
    "subset = (df\n",
    "          [['text', 'id', COLUM_OF_INTEREST, 'rater_id', 'example_very_unclear']]\n",
    "          .loc[lambda d: d['rater_id'].isin(rater_ids)])"
   ]
  },
  {
   "cell_type": "code",
   "execution_count": 11,
   "id": "4db7fbf6-ce0b-476b-9ec9-bfe6be807dfc",
   "metadata": {},
   "outputs": [],
   "source": [
    "corvals = subset[['id', 'rater_id', COLUM_OF_INTEREST]].pivot(index=\"id\", columns=\"rater_id\", values=COLUM_OF_INTEREST).corr().values"
   ]
  },
  {
   "cell_type": "code",
   "execution_count": 12,
   "id": "8054670b-0aaa-4c89-a687-d2c1a3ecc2f0",
   "metadata": {},
   "outputs": [
    {
     "data": {
      "text/plain": [
       "<matplotlib.image.AxesImage at 0x7f6b739f66d0>"
      ]
     },
     "execution_count": 12,
     "metadata": {},
     "output_type": "execute_result"
    },
    {
     "data": {
      "image/png": "[encoded data removed]",
      "text/plain": [
       "<Figure size 432x288 with 1 Axes>"
      ]
     },
     "metadata": {
      "needs_background": "light"
     },
     "output_type": "display_data"
    }
   ],
   "source": [
    "import matplotlib.pylab as plt\n",
    "\n",
    "plt.imshow(corvals)"
   ]
  },
  {
   "cell_type": "code",
   "execution_count": 13,
   "id": "3f145e6d-01bb-4f6b-8eaa-f6aa2840960e",
   "metadata": {},
   "outputs": [],
   "source": [
    "from sklearn.model_selection import train_test_split\n",
    "\n",
    "X_train, X_test, y_train, y_test = train_test_split(subset[['text', 'rater_id', COLUM_OF_INTEREST]], subset[COLUM_OF_INTEREST].values, stratify=subset['rater_id'])"
   ]
  },
  {
   "cell_type": "code",
   "execution_count": 14,
   "id": "51abe9de-e47b-43eb-b1fd-d67d6e5415ec",
   "metadata": {},
   "outputs": [],
   "source": [
    "from sklearn.linear_model import LogisticRegression\n",
    "from sklearn.pipeline import make_pipeline, make_union, Pipeline, FeatureUnion\n",
    "from sklearn.feature_extraction.text import CountVectorizer"
   ]
  },
  {
   "cell_type": "code",
   "execution_count": 15,
   "id": "8c56528b-359d-4802-8c88-a81f09de0ccc",
   "metadata": {
    "jupyter": {
     "source_hidden": true
    },
    "tags": []
   },
   "outputs": [],
   "source": [
    "from typing import List\n",
    "from sklearn.base import BaseEstimator, TransformerMixin\n",
    "\n",
    "\n",
    "class ColumnLister(BaseEstimator, TransformerMixin):\n",
    "    \"\"\"Takes a pandas column as a list of text.\"\"\"\n",
    "\n",
    "    def __init__(self, column) -> None:\n",
    "        self.column = column\n",
    "\n",
    "    def fit(self, X, y) -> \"ColumnLister\":\n",
    "        \"\"\"Fits the estimator. No-op.\"\"\"\n",
    "        return self\n",
    "\n",
    "    def transform(self, X) -> List[str]:\n",
    "        \"\"\"Transforms the data per scikit-learn API.\"\"\"\n",
    "        return X[self.column].to_list()\n",
    "\n",
    "    def fit_transform(self, X, y=None, **fit_params) -> List[str]:\n",
    "        \"\"\"Transforms the data per scikit-learn API.\"\"\"\n",
    "        return self.fit(X, y).transform(X)"
   ]
  },
  {
   "cell_type": "code",
   "execution_count": 16,
   "id": "17000d3e-631c-46d9-b634-1b996a7e749f",
   "metadata": {},
   "outputs": [
    {
     "data": {
      "text/plain": [
       "Pipeline(steps=[('columnlister', ColumnLister(column='text')),\n",
       "                ('countvectorizer', CountVectorizer()),\n",
       "                ('logisticregression',\n",
       "                 LogisticRegression(class_weight='balanced', max_iter=500))])"
      ]
     },
     "execution_count": 16,
     "metadata": {},
     "output_type": "execute_result"
    }
   ],
   "source": [
    "pipe = make_pipeline(\n",
    "    ColumnLister(\"text\"), \n",
    "    CountVectorizer(), \n",
    "    LogisticRegression(max_iter=500, class_weight=\"balanced\")\n",
    ")\n",
    "pipe.fit(X_train, y_train)"
   ]
  },
  {
   "cell_type": "code",
   "execution_count": 17,
   "id": "d13ecba8-b2dd-4a61-82b9-59c18b07e9d2",
   "metadata": {},
   "outputs": [
    {
     "name": "stdout",
     "output_type": "stream",
     "text": [
      "              precision    recall  f1-score   support\n",
      "\n",
      "           0       0.91      0.98      0.94     28151\n",
      "           1       0.59      0.21      0.31      3510\n",
      "\n",
      "    accuracy                           0.90     31661\n",
      "   macro avg       0.75      0.59      0.63     31661\n",
      "weighted avg       0.87      0.90      0.87     31661\n",
      "\n"
     ]
    }
   ],
   "source": [
    "from sklearn.metrics import classification_report\n",
    "\n",
    "print(classification_report(pipe.predict(X_test), y_test))"
   ]
  },
  {
   "cell_type": "code",
   "execution_count": 18,
   "id": "7ed48023-6956-4cd0-909f-39797e431e4d",
   "metadata": {},
   "outputs": [
    {
     "name": "stderr",
     "output_type": "stream",
     "text": [
      "100%|████████████████████████████████████████████████████████████████████████████████████████| 23/23 [00:02<00:00,  8.18it/s]\n"
     ]
    }
   ],
   "source": [
    "import tqdm \n",
    "\n",
    "models = {}\n",
    "\n",
    "for rater, data in tqdm.tqdm(X_train.groupby(\"rater_id\")):\n",
    "    pipe_temp_ = make_pipeline(\n",
    "        ColumnLister(\"text\"), \n",
    "        CountVectorizer(), \n",
    "        LogisticRegression(max_iter=500, class_weight=\"balanced\")\n",
    "    )\n",
    "    models[rater] = pipe_temp_.fit(data[['text']], data[COLUM_OF_INTEREST])"
   ]
  },
  {
   "cell_type": "code",
   "execution_count": 19,
   "id": "a4ee8250-b2f5-43f1-9993-98769bd15ea8",
   "metadata": {},
   "outputs": [
    {
     "name": "stderr",
     "output_type": "stream",
     "text": [
      "100%|████████████████████████████████████████████████████████████████████████████████████████| 23/23 [00:00<00:00, 87.05it/s]\n"
     ]
    }
   ],
   "source": [
    "pred, actual = [], [] \n",
    "\n",
    "for rater, data in tqdm.tqdm(X_test.groupby(\"rater_id\")):\n",
    "    y_actual = data[COLUM_OF_INTEREST]\n",
    "    y_pred = models[rater].predict(data)\n",
    "    actual = actual + list(y_actual)\n",
    "    pred = pred + list(y_pred)"
   ]
  },
  {
   "cell_type": "code",
   "execution_count": 20,
   "id": "cc40b735-2ece-4955-b79a-e97cd2b5b52f",
   "metadata": {},
   "outputs": [
    {
     "name": "stdout",
     "output_type": "stream",
     "text": [
      "              precision    recall  f1-score   support\n",
      "\n",
      "           0       0.97      0.97      0.97     30256\n",
      "           1       0.36      0.32      0.34      1405\n",
      "\n",
      "    accuracy                           0.95     31661\n",
      "   macro avg       0.67      0.65      0.66     31661\n",
      "weighted avg       0.94      0.95      0.94     31661\n",
      "\n"
     ]
    }
   ],
   "source": [
    "print(classification_report(pred, actual))"
   ]
  }
 ],
 "metadata": {
  "kernelspec": {
   "display_name": "Python 3 (ipykernel)",
   "language": "python",
   "name": "python3"
  },
  "language_info": {
   "codemirror_mode": {
    "name": "ipython",
    "version": 3
   },
   "file_extension": ".py",
   "mimetype": "text/x-python",
   "name": "python",
   "nbconvert_exporter": "python",
   "pygments_lexer": "ipython3",
   "version": "3.8.6"
  }
 },
 "nbformat": 4,
 "nbformat_minor": 5
}
